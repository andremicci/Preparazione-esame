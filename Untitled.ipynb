{
 "cells": [
  {
   "cell_type": "markdown",
   "id": "ec502ca5",
   "metadata": {},
   "source": [
    "# Propagazione Errori \n"
   ]
  },
  {
   "cell_type": "markdown",
   "id": "d2eee25e",
   "metadata": {},
   "source": [
    "$$ f(x,y,z)=\\sqrt{x+y}+sin(z^2)$$\n"
   ]
  },
  {
   "cell_type": "markdown",
   "id": "4b2bce25",
   "metadata": {},
   "source": [
    "$$x=10.1 \\pm0.1$$\n",
    "$$y=9.1 \\pm0.4$$\n",
    "$$z=14.300\\pm 0.005$$"
   ]
  },
  {
   "cell_type": "markdown",
   "id": "dfec19cb",
   "metadata": {},
   "source": [
    "$$ V_{ij}=\\begin{pmatrix}\n",
    "0.1 & 0.2 & 0.5 \\\\\n",
    "0.2 & 0.4 & 0.3\\\\\n",
    "0.5&  0.3& 0.005\n",
    "\\end{pmatrix} $$"
   ]
  },
  {
   "cell_type": "code",
   "execution_count": 3,
   "id": "f183257d",
   "metadata": {},
   "outputs": [
    {
     "name": "stderr",
     "output_type": "stream",
     "text": [
      "\u001b[1minput_line_50:4:2: \u001b[0m\u001b[0;1;31merror: \u001b[0m\u001b[1mno viable overloaded '='\u001b[0m\n",
      "b=a\n",
      "\u001b[0;1;32m~^~\n",
      "\u001b[0m\u001b[1m/usr/include/c++/9/bits/stl_vector.h:692:7: \u001b[0m\u001b[0;1;30mnote: \u001b[0mcandidate function not viable: no known conversion from 'double [3]' to 'const std::vector<double, std::allocator<double> >' for 1st argument\u001b[0m\n",
      "      operator=(const vector& __x);\n",
      "\u001b[0;1;32m      ^\n",
      "\u001b[0m\u001b[1m/usr/include/c++/9/bits/stl_vector.h:706:7: \u001b[0m\u001b[0;1;30mnote: \u001b[0mcandidate function not viable: no known conversion from 'double [3]' to 'std::vector<double, std::allocator<double> >' for 1st argument\u001b[0m\n",
      "      operator=(vector&& __x) noexcept(_Alloc_traits::_S_nothrow_move())\n",
      "\u001b[0;1;32m      ^\n",
      "\u001b[0m\u001b[1m/usr/include/c++/9/bits/stl_vector.h:727:7: \u001b[0m\u001b[0;1;30mnote: \u001b[0mcandidate function not viable: no known conversion from 'double [3]' to 'initializer_list<std::vector<double, std::allocator<double> >::value_type>' (aka 'initializer_list<double>') for 1st argument\u001b[0m\n",
      "      operator=(initializer_list<value_type> __l)\n",
      "\u001b[0;1;32m      ^\n",
      "\u001b[0m"
     ]
    }
   ],
   "source": [
    "double a[3]={1,2,3};\n",
    "vector <double> b;\n",
    "b=a"
   ]
  },
  {
   "cell_type": "code",
   "execution_count": 9,
   "id": "4d52b655",
   "metadata": {},
   "outputs": [],
   "source": [
    "double f(double* x){\n",
    "    return sqrt(x[0]+x[1])+sin(pow(x[2],2));\n",
    "}"
   ]
  },
  {
   "cell_type": "code",
   "execution_count": 23,
   "id": "15e1008a",
   "metadata": {},
   "outputs": [
    {
     "name": "stderr",
     "output_type": "stream",
     "text": [
      "\u001b[1minput_line_72:8:12: \u001b[0m\u001b[0;1;31merror: \u001b[0m\u001b[1mcannot initialize a variable of type 'double' with an lvalue of type 'double [3]'\u001b[0m\n",
      "    double x0_tmp1=x0;\n",
      "\u001b[0;1;32m           ^       ~~\n",
      "\u001b[0m\u001b[1minput_line_72:11:12: \u001b[0m\u001b[0;1;31merror: \u001b[0m\u001b[1marray initializer must be an initializer list\u001b[0m\n",
      "    double x0_tmp2[3]=x0;\n",
      "\u001b[0;1;32m           ^\n",
      "\u001b[0m"
     ]
    }
   ],
   "source": [
    "double V[3][3]={0.1,0.2,0.5,0.2,0.4,0.3,0.5,0.3,0.005};\n",
    "double x0[3]={10.1,9.1,14.4};\n",
    "int N_mis=3;\n",
    "int ctr=0;\n",
    "\n",
    "for(int i=0;i<N_mis;i++){\n",
    "    double x0_tmp1={x0[0],x0};\n",
    "    x0_tmp1[i]=x0[i]+V[i][i];\n",
    "    \n",
    "    double x0_tmp2[3]=x0;\n",
    "    x0_tmp2[i]=x0[i]-V[i][i];\n",
    "    \n",
    "    double diff1=fabs(f(x0_tmp1)-f(x0));\n",
    "    double diff2=fabs(f(x0_tmp2)-f(x0));\n",
    "    if(fabs(diff1-diff2)>0.01){\n",
    "        ctr++;\n",
    "    }\n",
    "    }\n"
   ]
  }
 ],
 "metadata": {
  "kernelspec": {
   "display_name": "ROOT C++",
   "language": "c++",
   "name": "root"
  },
  "language_info": {
   "codemirror_mode": "text/x-c++src",
   "file_extension": ".C",
   "mimetype": " text/x-c++src",
   "name": "c++"
  }
 },
 "nbformat": 4,
 "nbformat_minor": 5
}
